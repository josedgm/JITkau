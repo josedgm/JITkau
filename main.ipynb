{
 "cells": [
  {
   "cell_type": "code",
   "execution_count": 1,
   "id": "ad2e4a6c",
   "metadata": {},
   "outputs": [],
   "source": [
    "import pandas as pd\n",
    "import numpy as np\n",
    "from sklearn.model_selection import train_test_split\n",
    "from sklearn.preprocessing import StandardScaler, OneHotEncoder\n",
    "from sklearn.compose import ColumnTransformer\n",
    "from sklearn.pipeline import Pipeline\n",
    "from sklearn.metrics import (accuracy_score, f1_score, \n",
    "                            confusion_matrix, RocCurveDisplay,\n",
    "                            ConfusionMatrixDisplay)\n",
    "from sklearn.ensemble import RandomForestClassifier, GradientBoostingClassifier\n",
    "from sklearn.linear_model import LogisticRegression\n",
    "import matplotlib.pyplot as plt\n",
    "import seaborn as sns"
   ]
  },
  {
   "cell_type": "code",
   "execution_count": 31,
   "id": "b617a76c",
   "metadata": {},
   "outputs": [
    {
     "name": "stdout",
     "output_type": "stream",
     "text": [
      "Rows in    OSdf: 1479 / 26855 = 0.05507354310184323    QTdf: 1479 / 32155 = 0.045995957082879804\n"
     ]
    }
   ],
   "source": [
    "# Load dataset\n",
    "df_os = pd.read_csv('datasets/openstack_metrics.csv') # the OS df\n",
    "df_qt = pd.read_csv('datasets/qt_metrics.csv') # the QT df\n",
    "\n",
    "bugrows_OS = len(df_os[df_os[\"bugcount\"]==1])\n",
    "bugrows_QT = len(df_os[df_os[\"bugcount\"]==1])\n",
    "\n",
    "\n",
    "\n",
    "print(\"Rows in    OSdf:\", bugrows_OS ,\"/\",len(df_os),\"=\", bugrows_OS/len(df_os), \"   QTdf:\", bugrows_QT ,\"/\", len(df_qt), \"=\",bugrows_QT/len(df_qt) )\n"
   ]
  },
  {
   "cell_type": "code",
   "execution_count": 32,
   "id": "d97fe7f7",
   "metadata": {},
   "outputs": [],
   "source": [
    "# I will use QT df for mainly training and evaluate the model completely with OS DF\n",
    "\n",
    "X = df_qt.drop('bugcount', axis=1)\n",
    "y = df_qt['bugcount']\n",
    "\n",
    "# Split data\n",
    "X_train, X_test, y_train, y_test = train_test_split(\n",
    "    X, y, test_size=0.2, random_state=42\n",
    ")"
   ]
  }
 ],
 "metadata": {
  "kernelspec": {
   "display_name": "Python 3",
   "language": "python",
   "name": "python3"
  },
  "language_info": {
   "codemirror_mode": {
    "name": "ipython",
    "version": 3
   },
   "file_extension": ".py",
   "mimetype": "text/x-python",
   "name": "python",
   "nbconvert_exporter": "python",
   "pygments_lexer": "ipython3",
   "version": "3.10.4"
  }
 },
 "nbformat": 4,
 "nbformat_minor": 5
}
